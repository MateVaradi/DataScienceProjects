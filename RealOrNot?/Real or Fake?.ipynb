{
 "cells": [
  {
   "cell_type": "markdown",
   "metadata": {},
   "source": [
    "# Real or Fake?\n",
    "\n",
    "In this notebook I show three different solutions for the [\"Real or Not Real or Not? NLP with Disaster Tweets\n",
    "\"](https://www.kaggle.com/c/nlp-getting-started/overview) Kaggle practice competition. The three approaches I use for classifying whether a tweet is about a real disaster or not are the following: Naive Bayes, Random Forest Classifier on Doc2Vec embeddings, and LSTM on GloVe embeddings. \n",
    "\n",
    "## Table of Contents\n",
    "\n",
    "* [1 Preparations](#prep)\n",
    "* [2 Data Cleaning](#clean)\n",
    "* [3 Models for Classification](#models)\n",
    "    * [3.1 Naive Bayes Classifier](#NBC)\n",
    "    * [3.2 Random Forest on Doc2Vec embeddings](#RF)\n",
    "    * [3.2 LSTM on GloVe embeddings](#LSTM)     \n",
    "* [4 Submission](#submission)\n",
    "\n",
    "\n",
    "\n",
    "## 1. Preparations <a class=\"anchor\" id=\"prep\"></a>"
   ]
  },
  {
   "cell_type": "code",
   "execution_count": 1,
   "metadata": {},
   "outputs": [
    {
     "name": "stderr",
     "output_type": "stream",
     "text": [
      "[nltk_data] Downloading package stopwords to\n",
      "[nltk_data]     /Users/matevaradi/nltk_data...\n",
      "[nltk_data]   Package stopwords is already up-to-date!\n",
      "Using TensorFlow backend.\n",
      "/Users/matevaradi/opt/anaconda3/lib/python3.7/site-packages/tensorflow/python/framework/dtypes.py:516: FutureWarning: Passing (type, 1) or '1type' as a synonym of type is deprecated; in a future version of numpy, it will be understood as (type, (1,)) / '(1,)type'.\n",
      "  _np_qint8 = np.dtype([(\"qint8\", np.int8, 1)])\n",
      "/Users/matevaradi/opt/anaconda3/lib/python3.7/site-packages/tensorflow/python/framework/dtypes.py:517: FutureWarning: Passing (type, 1) or '1type' as a synonym of type is deprecated; in a future version of numpy, it will be understood as (type, (1,)) / '(1,)type'.\n",
      "  _np_quint8 = np.dtype([(\"quint8\", np.uint8, 1)])\n",
      "/Users/matevaradi/opt/anaconda3/lib/python3.7/site-packages/tensorflow/python/framework/dtypes.py:518: FutureWarning: Passing (type, 1) or '1type' as a synonym of type is deprecated; in a future version of numpy, it will be understood as (type, (1,)) / '(1,)type'.\n",
      "  _np_qint16 = np.dtype([(\"qint16\", np.int16, 1)])\n",
      "/Users/matevaradi/opt/anaconda3/lib/python3.7/site-packages/tensorflow/python/framework/dtypes.py:519: FutureWarning: Passing (type, 1) or '1type' as a synonym of type is deprecated; in a future version of numpy, it will be understood as (type, (1,)) / '(1,)type'.\n",
      "  _np_quint16 = np.dtype([(\"quint16\", np.uint16, 1)])\n",
      "/Users/matevaradi/opt/anaconda3/lib/python3.7/site-packages/tensorflow/python/framework/dtypes.py:520: FutureWarning: Passing (type, 1) or '1type' as a synonym of type is deprecated; in a future version of numpy, it will be understood as (type, (1,)) / '(1,)type'.\n",
      "  _np_qint32 = np.dtype([(\"qint32\", np.int32, 1)])\n",
      "/Users/matevaradi/opt/anaconda3/lib/python3.7/site-packages/tensorflow/python/framework/dtypes.py:525: FutureWarning: Passing (type, 1) or '1type' as a synonym of type is deprecated; in a future version of numpy, it will be understood as (type, (1,)) / '(1,)type'.\n",
      "  np_resource = np.dtype([(\"resource\", np.ubyte, 1)])\n",
      "/Users/matevaradi/opt/anaconda3/lib/python3.7/site-packages/tensorboard/compat/tensorflow_stub/dtypes.py:541: FutureWarning: Passing (type, 1) or '1type' as a synonym of type is deprecated; in a future version of numpy, it will be understood as (type, (1,)) / '(1,)type'.\n",
      "  _np_qint8 = np.dtype([(\"qint8\", np.int8, 1)])\n",
      "/Users/matevaradi/opt/anaconda3/lib/python3.7/site-packages/tensorboard/compat/tensorflow_stub/dtypes.py:542: FutureWarning: Passing (type, 1) or '1type' as a synonym of type is deprecated; in a future version of numpy, it will be understood as (type, (1,)) / '(1,)type'.\n",
      "  _np_quint8 = np.dtype([(\"quint8\", np.uint8, 1)])\n",
      "/Users/matevaradi/opt/anaconda3/lib/python3.7/site-packages/tensorboard/compat/tensorflow_stub/dtypes.py:543: FutureWarning: Passing (type, 1) or '1type' as a synonym of type is deprecated; in a future version of numpy, it will be understood as (type, (1,)) / '(1,)type'.\n",
      "  _np_qint16 = np.dtype([(\"qint16\", np.int16, 1)])\n",
      "/Users/matevaradi/opt/anaconda3/lib/python3.7/site-packages/tensorboard/compat/tensorflow_stub/dtypes.py:544: FutureWarning: Passing (type, 1) or '1type' as a synonym of type is deprecated; in a future version of numpy, it will be understood as (type, (1,)) / '(1,)type'.\n",
      "  _np_quint16 = np.dtype([(\"quint16\", np.uint16, 1)])\n",
      "/Users/matevaradi/opt/anaconda3/lib/python3.7/site-packages/tensorboard/compat/tensorflow_stub/dtypes.py:545: FutureWarning: Passing (type, 1) or '1type' as a synonym of type is deprecated; in a future version of numpy, it will be understood as (type, (1,)) / '(1,)type'.\n",
      "  _np_qint32 = np.dtype([(\"qint32\", np.int32, 1)])\n",
      "/Users/matevaradi/opt/anaconda3/lib/python3.7/site-packages/tensorboard/compat/tensorflow_stub/dtypes.py:550: FutureWarning: Passing (type, 1) or '1type' as a synonym of type is deprecated; in a future version of numpy, it will be understood as (type, (1,)) / '(1,)type'.\n",
      "  np_resource = np.dtype([(\"resource\", np.ubyte, 1)])\n"
     ]
    }
   ],
   "source": [
    "# Importing all kinds of packages, in no particular order\n",
    "\n",
    "# Basics\n",
    "import pandas as pd\n",
    "import numpy as np\n",
    "import matplotlib.pyplot as plt\n",
    "import seaborn as sns\n",
    "# Data cleaning:\n",
    "import re\n",
    "from collections import Counter \n",
    "import nltk\n",
    "from nltk import word_tokenize, FreqDist\n",
    "from nltk.corpus import stopwords\n",
    "from nltk.stem import WordNetLemmatizer\n",
    "nltk.download('stopwords')\n",
    "from nltk.tokenize import TweetTokenizer\n",
    "import string\n",
    "from spellchecker import SpellChecker\n",
    "# Modeling basics:\n",
    "from sklearn.model_selection import train_test_split\n",
    "from sklearn.metrics import accuracy_score, confusion_matrix\n",
    "# For D2V + RF:\n",
    "from gensim.models.doc2vec import Doc2Vec, TaggedDocument\n",
    "import multiprocessing\n",
    "from sklearn.ensemble import RandomForestClassifier\n",
    "from sklearn import utils\n",
    "# For Glove + LSTM:\n",
    "from keras.preprocessing.text import Tokenizer\n",
    "from keras.layers import LSTM,Dense,Dropout,Embedding,Bidirectional\n",
    "from keras.preprocessing.sequence import pad_sequences\n",
    "from keras import Sequential\n",
    "from tqdm import tqdm"
   ]
  },
  {
   "cell_type": "code",
   "execution_count": 2,
   "metadata": {},
   "outputs": [],
   "source": [
    "# Load data\n",
    "train=pd.read_csv(\"train.csv\")\n",
    "test=pd.read_csv(\"test.csv\")"
   ]
  },
  {
   "cell_type": "code",
   "execution_count": 3,
   "metadata": {},
   "outputs": [
    {
     "data": {
      "text/html": [
       "<div>\n",
       "<style scoped>\n",
       "    .dataframe tbody tr th:only-of-type {\n",
       "        vertical-align: middle;\n",
       "    }\n",
       "\n",
       "    .dataframe tbody tr th {\n",
       "        vertical-align: top;\n",
       "    }\n",
       "\n",
       "    .dataframe thead th {\n",
       "        text-align: right;\n",
       "    }\n",
       "</style>\n",
       "<table border=\"1\" class=\"dataframe\">\n",
       "  <thead>\n",
       "    <tr style=\"text-align: right;\">\n",
       "      <th></th>\n",
       "      <th>id</th>\n",
       "      <th>keyword</th>\n",
       "      <th>location</th>\n",
       "      <th>text</th>\n",
       "      <th>target</th>\n",
       "    </tr>\n",
       "  </thead>\n",
       "  <tbody>\n",
       "    <tr>\n",
       "      <th>0</th>\n",
       "      <td>1</td>\n",
       "      <td>NaN</td>\n",
       "      <td>NaN</td>\n",
       "      <td>Our Deeds are the Reason of this #earthquake M...</td>\n",
       "      <td>1</td>\n",
       "    </tr>\n",
       "    <tr>\n",
       "      <th>1</th>\n",
       "      <td>4</td>\n",
       "      <td>NaN</td>\n",
       "      <td>NaN</td>\n",
       "      <td>Forest fire near La Ronge Sask. Canada</td>\n",
       "      <td>1</td>\n",
       "    </tr>\n",
       "    <tr>\n",
       "      <th>2</th>\n",
       "      <td>5</td>\n",
       "      <td>NaN</td>\n",
       "      <td>NaN</td>\n",
       "      <td>All residents asked to 'shelter in place' are ...</td>\n",
       "      <td>1</td>\n",
       "    </tr>\n",
       "    <tr>\n",
       "      <th>3</th>\n",
       "      <td>6</td>\n",
       "      <td>NaN</td>\n",
       "      <td>NaN</td>\n",
       "      <td>13,000 people receive #wildfires evacuation or...</td>\n",
       "      <td>1</td>\n",
       "    </tr>\n",
       "    <tr>\n",
       "      <th>4</th>\n",
       "      <td>7</td>\n",
       "      <td>NaN</td>\n",
       "      <td>NaN</td>\n",
       "      <td>Just got sent this photo from Ruby #Alaska as ...</td>\n",
       "      <td>1</td>\n",
       "    </tr>\n",
       "  </tbody>\n",
       "</table>\n",
       "</div>"
      ],
      "text/plain": [
       "   id keyword location                                               text  \\\n",
       "0   1     NaN      NaN  Our Deeds are the Reason of this #earthquake M...   \n",
       "1   4     NaN      NaN             Forest fire near La Ronge Sask. Canada   \n",
       "2   5     NaN      NaN  All residents asked to 'shelter in place' are ...   \n",
       "3   6     NaN      NaN  13,000 people receive #wildfires evacuation or...   \n",
       "4   7     NaN      NaN  Just got sent this photo from Ruby #Alaska as ...   \n",
       "\n",
       "   target  \n",
       "0       1  \n",
       "1       1  \n",
       "2       1  \n",
       "3       1  \n",
       "4       1  "
      ]
     },
     "execution_count": 3,
     "metadata": {},
     "output_type": "execute_result"
    }
   ],
   "source": [
    "train.head()"
   ]
  },
  {
   "cell_type": "markdown",
   "metadata": {},
   "source": [
    "The target takes the value 1 when the tweet is about a real disaser and 0 otherwise."
   ]
  },
  {
   "cell_type": "code",
   "execution_count": 4,
   "metadata": {},
   "outputs": [
    {
     "name": "stdout",
     "output_type": "stream",
     "text": [
      "Number of tweets in training data:  7613\n",
      "Number of tweets about real disasters in training data:  3271\n",
      "Number of tweets about fake disasters in training data:  4342\n",
      "Number of tweets in test data:  3263\n"
     ]
    }
   ],
   "source": [
    "print(\"Number of tweets in training data: \",train.shape[0])\n",
    "print(\"Number of tweets about real disasters in training data: \", sum(train.target))\n",
    "print(\"Number of tweets about fake disasters in training data: \", sum(train.target==0))\n",
    "print(\"Number of tweets in test data: \",test.shape[0])"
   ]
  },
  {
   "cell_type": "markdown",
   "metadata": {},
   "source": [
    "The dataset is not too imbalanced, but there are slightly more fake disaster tweets than real ones. "
   ]
  },
  {
   "cell_type": "code",
   "execution_count": 5,
   "metadata": {},
   "outputs": [
    {
     "name": "stdout",
     "output_type": "stream",
     "text": [
      "Examples of real disaster tweets: \n",
      "\n",
      "@UN No more #GujaratRiot &amp; #MumbaiRiot92-93 which devastated 1000&amp;1000 Indianperpetrated by #Modi &amp; #ChawalChorbjp @UN_Women  @UNNewsTeam\n",
      "\n",
      "\n",
      "#DebateQuestionsWeWantToHear If U start another war would U B willing 2 go 2 the war-zone yourself or send UR sons and/or daughters 2 fight?\n",
      "\n",
      "\n",
      "OUN cancels Severe Thunderstorm Warning for Lincoln Logan Oklahoma [OK]  http://t.co/bTi8JAMFiu #WX\n",
      "\n",
      "\n",
      "____________________________ \n",
      "\n",
      "Examples of not real disaster tweets: \n",
      "\n",
      "I liked a @YouTube video http://t.co/N95IGskd3p Minecraft: Episode 2 'Blaze Farm Beginnings!'\n",
      "\n",
      "\n",
      "I hope you fall off a cliff\n",
      "\n",
      "\n",
      "The Twitter update pretty much wrecked the app\n",
      "\n",
      "\n"
     ]
    }
   ],
   "source": [
    "print(\"Examples of real disaster tweets: \\n\")\n",
    "for tweet in train[train.target==1].sample(3)[\"text\"]:\n",
    "    print(tweet)\n",
    "    print(\"\\n\")\n",
    "print(\"____________________________ \\n\")\n",
    "print(\"Examples of not real disaster tweets: \\n\")\n",
    "for tweet in train[train.target==0].sample(3)[\"text\"]:\n",
    "    print(tweet)\n",
    "    print(\"\\n\")"
   ]
  },
  {
   "cell_type": "code",
   "execution_count": 6,
   "metadata": {},
   "outputs": [
    {
     "name": "stdout",
     "output_type": "stream",
     "text": [
      "Size of original training set: 7613\n",
      "Size of new training set: 6113\n",
      "Size of validation set: 1500\n"
     ]
    }
   ],
   "source": [
    "indices=np.arange(train.shape[0])\n",
    "np.random.shuffle(indices)\n",
    "\n",
    "print(\"Size of original training set:\",train.shape[0])\n",
    "\n",
    "# Let's split our data into a training and a validation set\n",
    "val=train.iloc[indices[0:1500]] \n",
    "train=train.iloc[indices[1500:]]\n",
    "\n",
    "print(\"Size of new training set:\",train.shape[0])\n",
    "print(\"Size of validation set:\",val.shape[0])"
   ]
  },
  {
   "cell_type": "markdown",
   "metadata": {},
   "source": [
    "## 2. Data Cleaning <a class=\"anchor\" id=\"clean\"></a>"
   ]
  },
  {
   "cell_type": "code",
   "execution_count": 7,
   "metadata": {},
   "outputs": [],
   "source": [
    "example_tweet=\"OMG this vid is SoO funny!!! 4 :) http://www.youtube.com/watch?v=_Vaasd332a #youtube\""
   ]
  },
  {
   "cell_type": "markdown",
   "metadata": {},
   "source": [
    "For simplicity we will use the same cleaning steps for all of our models. These will be the following:\n",
    "\n",
    "1. Make text lowercase\n",
    "2. Remove hashtags, hyperlinks and Twitter marks\n",
    "3. Tokenization - Converting a sentence into list of words\n",
    "4. Remove stopwords and punctuations\n",
    "5. Spell checking - correcting mispelled words (optional, as it takes a lot of time to run)\n",
    "6. Lemmetization/stemming - Tranforming any form of a word to its root word\n",
    "\n",
    "#### Step 1: Make text lowercase"
   ]
  },
  {
   "cell_type": "code",
   "execution_count": 8,
   "metadata": {},
   "outputs": [],
   "source": [
    "train[\"text\"]=train[\"text\"].apply(lambda x: x.lower())\n",
    "val[\"text\"]=val[\"text\"].apply(lambda x: x.lower())\n",
    "test[\"text\"]=test[\"text\"].apply(lambda x: x.lower())"
   ]
  },
  {
   "cell_type": "markdown",
   "metadata": {},
   "source": [
    "#### Step 2: Remove hashtags, hyperlinks and retweet signs\n",
    "We do not want to treat individual hyperlinks as a separate term of the vocabulary, but the fact the the tweet contains a link may be relevant. The same goes for all digits and the (old) retweet sign as well. "
   ]
  },
  {
   "cell_type": "code",
   "execution_count": 9,
   "metadata": {},
   "outputs": [],
   "source": [
    "def remove_things(tweet):\n",
    "    # remove old style retweet text \"RT\"\n",
    "    tweet = re.sub(r'^RT[\\s]+', '', tweet)\n",
    "\n",
    "    # replace hyperlinks with the word \"hyperlink\"\n",
    "    tweet = re.sub(r'https?:\\/\\/.*[\\r\\n]*', 'hyperlink', tweet)\n",
    "    \n",
    "    # replace digits with the word \"digit\"\n",
    "    tweet = re.sub(r'[0-9]+', 'digit', tweet)\n",
    "\n",
    "    # remove hashtags (only removing the hash # sign from the word)\n",
    "    tweet = re.sub(r'#', 'retweet', tweet)\n",
    "\n",
    "    return tweet"
   ]
  },
  {
   "cell_type": "code",
   "execution_count": 10,
   "metadata": {},
   "outputs": [
    {
     "data": {
      "text/plain": [
       "'OMG this vid is SoO funny!!! digit :) hyperlink'"
      ]
     },
     "execution_count": 10,
     "metadata": {},
     "output_type": "execute_result"
    }
   ],
   "source": [
    "remove_things(example_tweet)"
   ]
  },
  {
   "cell_type": "code",
   "execution_count": 11,
   "metadata": {},
   "outputs": [],
   "source": [
    "train[\"text\"]=train[\"text\"].apply(lambda x: remove_things(x))\n",
    "val[\"text\"]=val[\"text\"].apply(lambda x: remove_things(x))\n",
    "test[\"text\"]=test[\"text\"].apply(lambda x: remove_things(x))"
   ]
  },
  {
   "cell_type": "markdown",
   "metadata": {},
   "source": [
    "#### Step 3: Tokenization"
   ]
  },
  {
   "cell_type": "code",
   "execution_count": 12,
   "metadata": {},
   "outputs": [],
   "source": [
    "tokenizer = TweetTokenizer(preserve_case=False, strip_handles=True,\n",
    "                               reduce_len=True)\n",
    "\n",
    "# Create a list of tokenized tweets\n",
    "train_tweetlist=[]\n",
    "val_tweetlist=[]\n",
    "test_tweetlist=[]\n",
    "\n",
    "# Run tokenization in all 3 subsets of our data:\n",
    "for tweet in train[\"text\"]:\n",
    "    tokenized_tweet=tokenizer.tokenize(tweet)\n",
    "    train_tweetlist.append(tokenized_tweet)\n",
    "\n",
    "for tweet in val[\"text\"]:\n",
    "    tokenized_tweet=tokenizer.tokenize(tweet)\n",
    "    val_tweetlist.append(tokenized_tweet)\n",
    "    \n",
    "for tweet in test[\"text\"]:\n",
    "    tokenized_tweet=tokenizer.tokenize(tweet)\n",
    "    test_tweetlist.append(tokenized_tweet)"
   ]
  },
  {
   "cell_type": "markdown",
   "metadata": {},
   "source": [
    "#### Step 4: Removing stopwords and punctuation"
   ]
  },
  {
   "cell_type": "code",
   "execution_count": 13,
   "metadata": {},
   "outputs": [],
   "source": [
    "def remove_punct_and_stopwords(tweet_tokens, \n",
    "                            punct_to_remove=string.punctuation,\n",
    "                            stopwords_to_remove=nltk.corpus.stopwords.words('english')):\n",
    "    cleaned_tweet=[]\n",
    "    for word in tweet_tokens: # Go through every word in your tokens list\n",
    "        if (word not in stopwords_to_remove and  # remove stopwords\n",
    "            word not in punct_to_remove):  # remove punctuation\n",
    "            cleaned_tweet.append(word)\n",
    "    return cleaned_tweet"
   ]
  },
  {
   "cell_type": "code",
   "execution_count": 14,
   "metadata": {},
   "outputs": [],
   "source": [
    "train_tweetlist=list(map(remove_punct_and_stopwords, train_tweetlist))\n",
    "val_tweetlist=list(map(remove_punct_and_stopwords, val_tweetlist))\n",
    "test_tweetlist=list(map(remove_punct_and_stopwords, test_tweetlist))"
   ]
  },
  {
   "cell_type": "markdown",
   "metadata": {},
   "source": [
    "#### Step 5: Spell checking"
   ]
  },
  {
   "cell_type": "code",
   "execution_count": 15,
   "metadata": {},
   "outputs": [],
   "source": [
    "spell = SpellChecker()\n",
    "def correct_spellings(tweet_tokens):\n",
    "    corrected_text = []\n",
    "    misspelled_words = spell.unknown(tweet_tokens)\n",
    "    for token in tweet_tokens:\n",
    "        if token in misspelled_words:\n",
    "            corrected_text.append(spell.correction(token))\n",
    "        else:\n",
    "            corrected_text.append(token)\n",
    "    return \" \".join(corrected_text)"
   ]
  },
  {
   "cell_type": "code",
   "execution_count": 16,
   "metadata": {},
   "outputs": [
    {
     "data": {
      "text/plain": [
       "'nice grammar process'"
      ]
     },
     "execution_count": 16,
     "metadata": {},
     "output_type": "execute_result"
    }
   ],
   "source": [
    "correct_spellings([\"niec\",\"gramarr\",\"proces\"])"
   ]
  },
  {
   "cell_type": "markdown",
   "metadata": {},
   "source": [
    "We will skip this spell checking test as it takes a lot of time to run.\n",
    "\n",
    "\n",
    "#### Step 6: Lemmatization\n",
    "Lemmatization means trimming words into a common root. This is usually done before running most NLP tasks."
   ]
  },
  {
   "cell_type": "code",
   "execution_count": 17,
   "metadata": {},
   "outputs": [],
   "source": [
    "wordnet_lemmatizer = WordNetLemmatizer()\n",
    "\n",
    "def lemmatize_tweet(tweet_tokens):\n",
    "    return [wordnet_lemmatizer.lemmatize(token) for token in tweet_tokens]"
   ]
  },
  {
   "cell_type": "code",
   "execution_count": 18,
   "metadata": {},
   "outputs": [],
   "source": [
    "train_tweetlist=list(map(lemmatize_tweet, train_tweetlist))\n",
    "val_tweetlist=list(map(lemmatize_tweet, val_tweetlist))\n",
    "test_tweetlist=list(map(lemmatize_tweet, test_tweetlist))"
   ]
  },
  {
   "cell_type": "markdown",
   "metadata": {},
   "source": [
    "## 3. Models for classification <a class=\"anchor\" id=\"models\"></a>\n",
    "### 3.1 Naive Bayes Classifier <a class=\"anchor\" id=\"NBC\"></a>"
   ]
  },
  {
   "cell_type": "markdown",
   "metadata": {},
   "source": [
    "This implementation is taken from the Week 2 of Course 1 of the [NLP Specialization of deeplearning.ai on Coursera](https://www.coursera.org/specializations/natural-language-processing). For the explanations I used [this summary](https://web.stanford.edu/~jurafsky/slp3/4.pdf) of Naive Bayes Classifiers. \n",
    "\n",
    "In a Naive Bayes model we work with both the bag-of-words and the naive Bayes assumptions. The latter means that the words (features $f_1 ... f_n$) within a document are independent of each other given their class $c$:\n",
    "\n",
    "$P\\left(f_{1}, f_{2}, \\ldots, f_{n} \\mid c\\right)=P\\left(f_{1} \\mid c\\right) \\cdot P\\left(f_{2} \\mid c\\right) \\cdot \\ldots \\cdot P\\left(f_{n} \\mid c\\right)$\n",
    "\n",
    "The Naive Bayes classifier chooses the most probable class for each document $d$ given this independence assumption:\n",
    "\n",
    "$c_{N B}=\\underset{c \\in C}{\\operatorname{argmax}} P(c) \\prod_{f \\in F} P(f \\mid c).$\n",
    "\n",
    "As usual, to avoid underflow problems, we use logs in calculations:\n",
    "\n",
    "$c_{N B}=\\underset{c \\in C}{\\operatorname{argmax}}\\ \\log P(c)+\\sum_{i \\in \\text {positions}} \\log P\\left(w_{i} \\mid c\\right)$\n",
    "\n",
    "$P(c)$ here is the prior probability for belonging to class $c$, which is given in our case by the proportion of real disaster tweets for the *real* class and vice versa for the *fake* class. $P\\left(w_{i} \\mid c\\right)$ is the probability of a word appearing in class $c$. To calculate these probabilities for each class, first we will go through our tweets and count how frequently their words appear in both real and fake tweets."
   ]
  },
  {
   "cell_type": "code",
   "execution_count": 19,
   "metadata": {},
   "outputs": [],
   "source": [
    "def count_tweets(tweets, ys):\n",
    "    '''\n",
    "    Input:\n",
    "        tweets: a list of (processed) tweets\n",
    "        ys: a list corresponding to the sentiment of each tweet (either 0 or 1)\n",
    "    Output:\n",
    "        result: a dictionary mapping each pair to its frequency\n",
    "    ''' \n",
    "    result={} \n",
    "    \n",
    "    for y, tweet in zip(ys, tweets):     # loop through tweets\n",
    "        for word in tweet: # loop through words\n",
    "            # define the key, which is the word and label tuple\n",
    "            pair = (word,y)\n",
    "\n",
    "            # if the key exists in the dictionary, increment the count\n",
    "            if pair in result:\n",
    "                result[pair] += 1\n",
    "\n",
    "            # else, if the key is new, add it to the dictionary and set the count to 1\n",
    "            else:\n",
    "                result[pair] = 1\n",
    "    return result"
   ]
  },
  {
   "cell_type": "code",
   "execution_count": 20,
   "metadata": {},
   "outputs": [],
   "source": [
    "ys=list(train.target)\n",
    "real_fake_freqs=count_tweets(train_tweetlist,ys)"
   ]
  },
  {
   "cell_type": "code",
   "execution_count": 21,
   "metadata": {},
   "outputs": [
    {
     "name": "stdout",
     "output_type": "stream",
     "text": [
      "88\n",
      "32\n"
     ]
    }
   ],
   "source": [
    "# Let's look at an example of our count dictionary\n",
    "print(real_fake_freqs[(\"disaster\",1)])\n",
    "print(real_fake_freqs[(\"disaster\",0)])"
   ]
  },
  {
   "cell_type": "code",
   "execution_count": 22,
   "metadata": {},
   "outputs": [],
   "source": [
    "k = Counter(real_fake_freqs) \n",
    "high_freq=k.most_common(100)\n",
    "# Finding most common (actual) words in each class\n",
    "top_unigram_counts_real=[h[1] for h in high_freq if h[0][1]==1][4:24]\n",
    "top_unigrams_real=[h[0][0] for h in high_freq if h[0][1]==1][4:24]\n",
    "top_unigram_counts_fake=[h[1] for h in high_freq if h[0][1]==0][4:24]\n",
    "top_unigrams_fake=[h[0][0] for h in high_freq if h[0][1]==0][4:24]"
   ]
  },
  {
   "cell_type": "code",
   "execution_count": 23,
   "metadata": {},
   "outputs": [
    {
     "data": {
      "text/plain": [
       "Text(0.5, 1.0, 'Top 20 most common unigrams in Non-disaster Tweets')"
      ]
     },
     "execution_count": 23,
     "metadata": {},
     "output_type": "execute_result"
    },
    {
     "data": {
      "image/png": "[encoded data removed]",
      "text/plain": [
       "<Figure size 1600x1000 with 2 Axes>"
      ]
     },
     "metadata": {
      "needs_background": "light"
     },
     "output_type": "display_data"
    }
   ],
   "source": [
    "# Let's plot the most common words within each class \n",
    "fig, axes = plt.subplots(ncols=2, figsize=(16, 10), dpi=100)\n",
    "plt.tight_layout()\n",
    "\n",
    "sns.barplot(x=top_unigram_counts_real,y=top_unigrams_real,color='red',ax=axes[0])\n",
    "sns.barplot(x=top_unigram_counts_fake,y=top_unigrams_fake,color='blue',ax=axes[1])\n",
    "\n",
    "for i in range(2):\n",
    "    axes[i].spines['right'].set_visible(False)\n",
    "    axes[i].set_xlabel('')\n",
    "    axes[i].set_ylabel('')\n",
    "    axes[i].tick_params(axis='x', labelsize=13)\n",
    "    axes[i].tick_params(axis='y', labelsize=13)\n",
    "\n",
    "axes[0].set_title(f'Top {20} most common unigrams in Disaster Tweets', fontsize=15)\n",
    "axes[1].set_title(f'Top {20} most common unigrams in Non-disaster Tweets', fontsize=15)"
   ]
  },
  {
   "cell_type": "markdown",
   "metadata": {},
   "source": [
    "#### Training Naive Bayes Classifier\n",
    "\n",
    "Notation:\n",
    "* $c$ : class (*real* or *fake*)\n",
    "* $W$: vocabulary, or set of unique words in dictionary\n",
    "* $V=|W|$ : number of unique words in dictionary\n",
    "* $N_{real}$, $N_{fake}$ : number of words that appear in real and fake tweets respectively\n",
    "* $D$ : number of documents\n",
    "* $D_{real}$, $D_{fake}$ : the number of real and fake documents respectively\n",
    "\n",
    "As mentioned above, we can estimate the prior $P(c)$ of class *real* by $\\hat{P}(real)=\\frac{D_{real}}{D}$.\n",
    "\n",
    "To estimate $P\\left(w_{i} \\mid c\\right)$ we use the counts we just stored in a dictionary:\n",
    "\n",
    "$\\hat{P}\\left(w_{i} \\mid c\\right)=\\frac{\\operatorname{count}\\left(w_{i}, c\\right)+1}{\\sum_{w \\in W}(\\operatorname{count}(w, c)+1)}=\\frac{\\operatorname{count}\\left(w_{i}, c\\right)+1}{\\left(\\sum_{w \\in W} \\operatorname{count}(w, c)\\right)+W}$,\n",
    "\n",
    "where adding one to the numerator is called Laplace (or add-one) smooting and is necessary to avoid multipliaction by 0 when a word is not present in class.\n",
    "\n",
    "For example if we wish to calculate the probability that the word \"disaster\" belongs to the *real* class:\n",
    "\n",
    "$P(\"disaster\"|c=real)=\\frac{count(\"disaster\"|real)+1}{N_{real}+W}$.\n",
    "\n",
    "In training we go through each word and calculate the probabilty that it belongs to each class. We take and store these log ratio of these probabilites, $\\log \\frac{\\hat{P}\\left(w_{i} \\mid c=real\\right)}{\\hat{P}\\left(w_{i} \\mid c=fake\\right)}$. Similary for the log prior, we store $\\log \\frac{\\hat{P}(c=real)}{\\hat{P}(c=fake)}.$ "
   ]
  },
  {
   "cell_type": "code",
   "execution_count": 24,
   "metadata": {},
   "outputs": [],
   "source": [
    "def train_naive_bayes(freqs, train_x, train_y):\n",
    "    '''\n",
    "    Input:\n",
    "        freqs: dictionary from (word, label) to how often the word appears\n",
    "        train_x: a list of tweets\n",
    "        train_y: a list of labels correponding to the tweets (0,1)\n",
    "    Output:\n",
    "        logprior: the log prior. (equation 3 above)\n",
    "        loglikelihood: the log likelihood of you Naive bayes equation. (equation 6 above)\n",
    "    '''\n",
    "    loglikelihood = {}\n",
    "    logprior = 0\n",
    "\n",
    "    # calculate V\n",
    "    vocab = set([pair[0] for pair in freqs.keys()])\n",
    "    V = len(vocab)\n",
    "\n",
    "    # calculate N_real, N_fake, V_real, V_fake\n",
    "    N_real = N_fake = V_real = V_fake = 0\n",
    "    for pair in freqs.keys():\n",
    "        # if the label is positive (real)\n",
    "        if pair[1] > 0:\n",
    "            # Increment the number of positive words by the count for this (word, label) pair\n",
    "            N_real += freqs[pair]\n",
    "\n",
    "        # else, the label is negative (fake)\n",
    "        else:\n",
    "            # increment the number of negative words by the count for this (word,label) pair\n",
    "            N_fake += freqs[pair]\n",
    "\n",
    "    # Calculate D, the number of documents\n",
    "    D = len(train_y)\n",
    "\n",
    "    # Calculate D_real and D_fake\n",
    "    D_real = sum(train_y)\n",
    "    D_fake = D-D_real\n",
    "    \n",
    "    # Calculate logprior\n",
    "    logprior = np.log(D_real) - np.log(D_fake)\n",
    "\n",
    "    # Calculate the loglikelihood for each word in the vocabulary...\n",
    "    for word in vocab:\n",
    "        # get the real and fake frequency of the word\n",
    "        freq_real = real_fake_freqs.setdefault((word,1),0)\n",
    "        freq_fake = real_fake_freqs.setdefault((word,0),0)\n",
    "\n",
    "        # calculate the probability that each word is positive, and negative\n",
    "        p_w_real = (freq_real + 1) / (N_real + V)\n",
    "        p_w_fake = (freq_fake + 1) / (N_fake + V)\n",
    "\n",
    "        # calculate the log likelihood of the word\n",
    "        loglikelihood[word] = np.log(p_w_real/p_w_fake)\n",
    "\n",
    "    return logprior, loglikelihood"
   ]
  },
  {
   "cell_type": "code",
   "execution_count": 25,
   "metadata": {},
   "outputs": [
    {
     "name": "stdout",
     "output_type": "stream",
     "text": [
      "-0.2749066102977267\n"
     ]
    }
   ],
   "source": [
    "logprior, loglikelihood = train_naive_bayes(real_fake_freqs, train_tweetlist, ys)\n",
    "print(logprior)"
   ]
  },
  {
   "cell_type": "markdown",
   "metadata": {},
   "source": [
    "The negative prior means that there given no other information we expect that a random tweet is more likely to be about a non-real disaster than a real one. This is simply because there are more fake disaster tweets in the training data than real ones.\n",
    "\n",
    "When predicting a class for a new tweet we use the formula:\n",
    "\n",
    "$\\log \\frac{\\hat{P}(c=real)}{\\hat{P}(c=fake)}+\\sum_w \\log \\frac{\\hat{P}\\left(w \\mid c=real\\right)}{\\hat{P}\\left(w \\mid c=fake\\right)}$,\n",
    "\n",
    "or put more simply, the sum of the logprior and the per word loglikelihoods. If this score is positive it will be classified as a real disaster tweet. Note that if a word was not present in the training examples, then it adds no information to the prediction. "
   ]
  },
  {
   "cell_type": "code",
   "execution_count": 26,
   "metadata": {},
   "outputs": [],
   "source": [
    "def naive_bayes_predict(tweet, logprior, loglikelihood):\n",
    "    '''\n",
    "    Input:\n",
    "        tweet: a (processed) list of tokens\n",
    "        logprior: a number\n",
    "        loglikelihood: a dictionary of words mapping to numbers\n",
    "    Output:\n",
    "        p: the sum of all the loglikelihoods of each word in the tweet (if found in the dictionary) \n",
    "           + logprior (a number)\n",
    "\n",
    "    '''\n",
    "     # initialize probability to zero\n",
    "    p = 0\n",
    "    # add the logprior\n",
    "    p += logprior\n",
    "\n",
    "    for word in tweet:\n",
    "            # add the log likelihood of that word to the probability\n",
    "            # if word was not in the training set, add 0\n",
    "            p += loglikelihood.setdefault(word,0)\n",
    "    return p"
   ]
  },
  {
   "cell_type": "code",
   "execution_count": 27,
   "metadata": {},
   "outputs": [
    {
     "name": "stdout",
     "output_type": "stream",
     "text": [
      "1.590250536087349\n"
     ]
    }
   ],
   "source": [
    "example_tokenized_tweet = [\"restaurant\",\"closed\",\"due\",\"to\",\"virus\",\"what\",\"tragedy\"]\n",
    "p = naive_bayes_predict(example_tokenized_tweet, logprior, loglikelihood)\n",
    "print(p)"
   ]
  },
  {
   "cell_type": "markdown",
   "metadata": {},
   "source": [
    "Our example of a fake tragedy receives a positive score, meaning that the model would classify it as real.\n",
    "Let us test how the model performs on our test set:"
   ]
  },
  {
   "cell_type": "code",
   "execution_count": 28,
   "metadata": {},
   "outputs": [],
   "source": [
    "def test_naive_bayes(test_x, test_y, logprior, loglikelihood):\n",
    "    \"\"\"\n",
    "    Input:\n",
    "        test_x: A list of tweets\n",
    "        test_y: the corresponding labels for the list of tweets\n",
    "        logprior: the logprior\n",
    "        loglikelihood: a dictionary with the loglikelihoods for each word\n",
    "    Output:\n",
    "        accuracy: (# of tweets classified correctly)/(total # of tweets)\n",
    "    \"\"\"\n",
    "    accuracy = 0\n",
    "    y_hats = []\n",
    "    \n",
    "    for tweet in test_x:\n",
    "        # if the prediction is > 0\n",
    "        if naive_bayes_predict(tweet, logprior, loglikelihood) > 0:\n",
    "            # the predicted class is 1\n",
    "            y_hat_i = 1\n",
    "        else:\n",
    "            # otherwise the predicted class is 0\n",
    "            y_hat_i = 0\n",
    "\n",
    "        # append the predicted class to the list y_hats\n",
    "        y_hats.append(y_hat_i)\n",
    "\n",
    "    # error is the average of the absolute values of the differences between y_hats and test_y\n",
    "    error = np.mean(np.absolute(y_hats-test_y))\n",
    "    accuracy = 1-error\n",
    "\n",
    "    return accuracy"
   ]
  },
  {
   "cell_type": "code",
   "execution_count": 29,
   "metadata": {},
   "outputs": [
    {
     "data": {
      "text/plain": [
       "0.81"
      ]
     },
     "execution_count": 29,
     "metadata": {},
     "output_type": "execute_result"
    }
   ],
   "source": [
    "test_naive_bayes(val_tweetlist, val.target, logprior, loglikelihood)"
   ]
  },
  {
   "cell_type": "markdown",
   "metadata": {},
   "source": [
    "Seems like our super simple model reaches an accuracy of around 79%. Not too bad. Let's see what more complex machine learning models can do.\n",
    "\n",
    "### 3.2 Random Forest Classifier on Doc2Vec embeddings <a class=\"anchor\" id=\"RF\"></a>\n",
    "\n",
    "Doc2Vec was created by the authors of Word2Vec and it works in a similar way, but it creates vector representations of entire documents instead of only words. For details, see the [original paper](https://cs.stanford.edu/~quocle/paragraph_vector.pdf). \n",
    "\n",
    "We will transform our tweets into Doc2Vec embeddings and run a standard Random Forest classifier on these embeddings to predict whether a tweet is about a real disaster or not. "
   ]
  },
  {
   "cell_type": "code",
   "execution_count": 30,
   "metadata": {},
   "outputs": [
    {
     "name": "stderr",
     "output_type": "stream",
     "text": [
      "100%|██████████| 6113/6113 [00:00<00:00, 1392255.67it/s]\n",
      "100%|██████████| 6113/6113 [00:00<00:00, 2060247.52it/s]\n",
      "100%|██████████| 6113/6113 [00:00<00:00, 1760490.27it/s]\n",
      "100%|██████████| 6113/6113 [00:00<00:00, 2455917.66it/s]\n",
      "100%|██████████| 6113/6113 [00:00<00:00, 2348610.46it/s]\n",
      "100%|██████████| 6113/6113 [00:00<00:00, 1883892.75it/s]\n",
      "100%|██████████| 6113/6113 [00:00<00:00, 1839691.49it/s]\n",
      "100%|██████████| 6113/6113 [00:00<00:00, 1875075.35it/s]\n",
      "100%|██████████| 6113/6113 [00:00<00:00, 1934639.73it/s]\n",
      "100%|██████████| 6113/6113 [00:00<00:00, 1771437.08it/s]\n",
      "100%|██████████| 6113/6113 [00:00<00:00, 1792740.90it/s]\n",
      "100%|██████████| 6113/6113 [00:00<00:00, 1733706.16it/s]\n",
      "100%|██████████| 6113/6113 [00:00<00:00, 1997023.16it/s]\n",
      "100%|██████████| 6113/6113 [00:00<00:00, 2186202.28it/s]\n",
      "100%|██████████| 6113/6113 [00:00<00:00, 2070061.39it/s]\n",
      "100%|██████████| 6113/6113 [00:00<00:00, 2239282.13it/s]\n",
      "100%|██████████| 6113/6113 [00:00<00:00, 2057767.28it/s]\n",
      "100%|██████████| 6113/6113 [00:00<00:00, 1800672.82it/s]\n",
      "100%|██████████| 6113/6113 [00:00<00:00, 2024139.92it/s]\n",
      "100%|██████████| 6113/6113 [00:00<00:00, 2090653.98it/s]\n",
      "100%|██████████| 6113/6113 [00:00<00:00, 1645157.55it/s]\n",
      "100%|██████████| 6113/6113 [00:00<00:00, 1134553.76it/s]\n",
      "100%|██████████| 6113/6113 [00:00<00:00, 1681186.83it/s]\n",
      "100%|██████████| 6113/6113 [00:00<00:00, 2355082.24it/s]\n",
      "100%|██████████| 6113/6113 [00:00<00:00, 2153336.72it/s]\n",
      "100%|██████████| 6113/6113 [00:00<00:00, 2445377.24it/s]\n",
      "100%|██████████| 6113/6113 [00:00<00:00, 2172310.46it/s]\n",
      "100%|██████████| 6113/6113 [00:00<00:00, 1757112.14it/s]\n",
      "100%|██████████| 6113/6113 [00:00<00:00, 2173968.15it/s]\n",
      "100%|██████████| 6113/6113 [00:00<00:00, 1660177.44it/s]\n",
      "100%|██████████| 6113/6113 [00:00<00:00, 1494943.76it/s]\n"
     ]
    }
   ],
   "source": [
    "# Build a vocabulary for Doc2Vec\n",
    "train_documents = [TaggedDocument(doc, [i]) for i, doc in enumerate(train_tweetlist)]\n",
    "val_documents = [TaggedDocument(doc, [i]) for i, doc in enumerate(val_tweetlist)]\n",
    "\n",
    "# Initialize Doc2Vec model - we will use the Distributed Bag of Words version\n",
    "cores = multiprocessing.cpu_count()\n",
    "model_dbow = Doc2Vec(dm=0, vector_size=300, negative=5, hs=0, min_count=2, sample = 0, workers=cores)\n",
    "model_dbow.build_vocab([x for x in tqdm(train_documents)])\n",
    "\n",
    "# Training Doc2Vec model\n",
    "for epoch in range(30):\n",
    "    model_dbow.train(utils.shuffle([x for x in tqdm(train_documents)]), total_examples=len(train_documents), epochs=1)\n",
    "    model_dbow.alpha -= 0.002\n",
    "    model_dbow.min_alpha = model_dbow.alpha\n",
    "    \n",
    "# Create Doc2Vec embedding matrix of documents:\n",
    "def create_matrix_embeddings(model, tagged_docs):\n",
    "    regressors = np.vstack([ model.infer_vector(doc.words, steps=20) for doc in tagged_docs])\n",
    "    return regressors\n",
    "\n",
    "X_train_d2v = create_matrix_embeddings(model_dbow, train_documents)\n",
    "X_val_d2v = create_matrix_embeddings(model_dbow, val_documents)\n"
   ]
  },
  {
   "cell_type": "code",
   "execution_count": 31,
   "metadata": {},
   "outputs": [
    {
     "data": {
      "text/plain": [
       "0.6053333333333333"
      ]
     },
     "execution_count": 31,
     "metadata": {},
     "output_type": "execute_result"
    }
   ],
   "source": [
    "RF = RandomForestClassifier()\n",
    "RF.fit(X_train_d2v, train.target)\n",
    "y_hat_RF = RF.predict(X_val_d2v)\n",
    "\n",
    "accuracy_score(y_hat_RF,val.target)"
   ]
  },
  {
   "cell_type": "markdown",
   "metadata": {},
   "source": [
    "This approach seems to be actually worse than Naive Bayes. Let's move on to another apporach.\n",
    "\n",
    "### 3.3 LSTM on GloVe embeddings <a class=\"anchor\" id=\"LSTM\"></a>\n",
    "\n",
    "GloVe is an alternative to Word2Vec, as it can also be used to create vector representations from words (or in our case, documents). The main difference is that Word2Vec is a \"predictive\" model that uses a neural network to create embeddings, whereas GloVe is a \"count-based\" and is built on the co-occurrences of words within documents. The original paper can be found [here](https://nlp.stanford.edu/pubs/glove.pdf).\n",
    "\n",
    "Long Short Term Memory (LSTM) networks is a kind of Recurrent Neural Network (RNN) architercture that is commonly used for NLP tasks. I find [this explanation](http://colah.github.io/posts/2015-08-Understanding-LSTMs/) particularly useful."
   ]
  },
  {
   "cell_type": "code",
   "execution_count": 32,
   "metadata": {},
   "outputs": [
    {
     "name": "stderr",
     "output_type": "stream",
     "text": [
      "1193514it [01:31, 13004.33it/s]\n",
      "100%|██████████| 12031/12031 [00:00<00:00, 21730.26it/s]\n"
     ]
    }
   ],
   "source": [
    "# First we initialize a tokenizer for GloVe\n",
    "token = Tokenizer()\n",
    "token.fit_on_texts(train_tweetlist)\n",
    "train_seq = token.texts_to_sequences(train_tweetlist)\n",
    "pad_seq = pad_sequences(train_seq,maxlen=200) # making the sequences equal length\n",
    "vocab_size = len(token.word_index)+1\n",
    "\n",
    "# Prepare dictionary for word embeddings\n",
    "embedding_vector = {}\n",
    "# Load the pre-trained GloVe embeddings \n",
    "#     these are trained on twitter data and can be downloaded from:\n",
    "#    https://nlp.stanford.edu/projects/glove/\n",
    "f = open('/Users/matevaradi/Documents/coding repositories/Python/Projects 2020/\\\n",
    "real_or_not/glove.twitter.27B/glove.twitter.27B.200d.txt')\n",
    "for line in tqdm(f):\n",
    "    value = line.split(' ')\n",
    "    word = value[0]\n",
    "    coef = np.array(value[1:],dtype = 'float32')\n",
    "    embedding_vector[word] = coef\n",
    "    \n",
    "# Convert training data into an embedding matrix for LSTM\n",
    "embedding_matrix = np.zeros((vocab_size,200))\n",
    "for word,i in tqdm(token.word_index.items()):\n",
    "    embedding_value = embedding_vector.get(word)\n",
    "    if embedding_value is not None:\n",
    "        embedding_matrix[i] = embedding_value"
   ]
  },
  {
   "cell_type": "code",
   "execution_count": 33,
   "metadata": {},
   "outputs": [
    {
     "name": "stdout",
     "output_type": "stream",
     "text": [
      "WARNING:tensorflow:From /Users/matevaradi/opt/anaconda3/lib/python3.7/site-packages/tensorflow/python/ops/nn_impl.py:180: add_dispatch_support.<locals>.wrapper (from tensorflow.python.ops.array_ops) is deprecated and will be removed in a future version.\n",
      "Instructions for updating:\n",
      "Use tf.where in 2.0, which has the same broadcast rule as np.where\n",
      "WARNING:tensorflow:From /Users/matevaradi/opt/anaconda3/lib/python3.7/site-packages/keras/backend/tensorflow_backend.py:422: The name tf.global_variables is deprecated. Please use tf.compat.v1.global_variables instead.\n",
      "\n",
      "Train on 4890 samples, validate on 1223 samples\n",
      "Epoch 1/5\n",
      "4890/4890 [==============================] - 33s 7ms/step - loss: 0.6137 - accuracy: 0.6777 - val_loss: 0.4745 - val_accuracy: 0.7899\n",
      "Epoch 2/5\n",
      "4890/4890 [==============================] - 30s 6ms/step - loss: 0.4778 - accuracy: 0.7881 - val_loss: 0.4364 - val_accuracy: 0.8168\n",
      "Epoch 3/5\n",
      "4890/4890 [==============================] - 35s 7ms/step - loss: 0.4441 - accuracy: 0.7984 - val_loss: 0.4364 - val_accuracy: 0.7997\n",
      "Epoch 4/5\n",
      "4890/4890 [==============================] - 33s 7ms/step - loss: 0.4227 - accuracy: 0.8133 - val_loss: 0.4279 - val_accuracy: 0.8136\n",
      "Epoch 5/5\n",
      "4890/4890 [==============================] - 33s 7ms/step - loss: 0.4047 - accuracy: 0.8229 - val_loss: 0.4357 - val_accuracy: 0.8046\n"
     ]
    }
   ],
   "source": [
    "# Build LSTM model\n",
    "model = Sequential()\n",
    "model.add(Embedding(vocab_size,200,weights = [embedding_matrix],input_length=200,trainable = False))\n",
    "model.add(Bidirectional(LSTM(75))) # bidirectional LSTM layer with 75 cells\n",
    "model.add(Dense(32,activation = 'relu'))\n",
    "model.add(Dense(1,activation = 'sigmoid'))\n",
    "model.compile(optimizer='adam',loss='binary_crossentropy',metrics = ['accuracy'])\n",
    "history = model.fit(pad_seq,train.target,epochs = 5,batch_size=256,validation_split=0.2)"
   ]
  },
  {
   "cell_type": "code",
   "execution_count": 34,
   "metadata": {},
   "outputs": [],
   "source": [
    "# Transforming validation data to GloVe embeddings\n",
    "X_val_glove = token.texts_to_sequences(val_tweetlist)\n",
    "val_seq = pad_sequences(X_val_glove,maxlen=200)\n",
    "\n",
    "# Getting predictions from LSTM model\n",
    "y_hat_LSTM_Glove = model.predict_classes(val_seq)\n",
    "y_hat_LSTM_Glove = y_hat_LSTM_Glove[:,0] "
   ]
  },
  {
   "cell_type": "code",
   "execution_count": 35,
   "metadata": {},
   "outputs": [
    {
     "data": {
      "text/plain": [
       "0.7966666666666666"
      ]
     },
     "execution_count": 35,
     "metadata": {},
     "output_type": "execute_result"
    }
   ],
   "source": [
    "accuracy_score(y_hat_LSTM_Glove,val.target)"
   ]
  },
  {
   "cell_type": "markdown",
   "metadata": {},
   "source": [
    "A first LSTM model (without extra engineering steps and playing around with extra layers) on GloVe embeddings is only slightly better than Naive Bayes, but much better than the previous combination of Word2Vec with Random Forests. To me, both of these results are somewhat surprising.\n",
    "\n",
    "## 4. Submission <a class=\"anchor\" id=\"submit\"></a>\n",
    "\n",
    "We could play around the models and/or the data for much longer, adding new layers or extracting new features, but for now we will just run the best method according to accuracy score (Glove+LSTM) on the test set and submit the results. "
   ]
  },
  {
   "cell_type": "code",
   "execution_count": 36,
   "metadata": {},
   "outputs": [],
   "source": [
    "# Transforming validation data to GloVe embeddings\n",
    "X_test_glove = token.texts_to_sequences(test_tweetlist)\n",
    "test_seq = pad_sequences(X_test_glove,maxlen=200)\n",
    "\n",
    "# Getting predictions from LSTM model\n",
    "submit_y = model.predict_classes(test_seq)\n",
    "submit_y = submit_y[:,0]"
   ]
  },
  {
   "cell_type": "code",
   "execution_count": 37,
   "metadata": {},
   "outputs": [],
   "source": [
    "submit=np.transpose(np.vstack((test.id,submit_y)))\n",
    "# Creat and save submission file\n",
    "submit_df=pd.DataFrame(data=submit,\n",
    "                      columns=[\"id\",\"target\"])\n",
    "submit_df.to_csv(\"submit.csv\",index=False)"
   ]
  },
  {
   "cell_type": "markdown",
   "metadata": {},
   "source": [
    "## References\n",
    "\n",
    "\n",
    "* [NLP Specialization on Coursera](https://www.coursera.org/specializations/natural-language-processing)\n",
    "* [Naive Bayes Classifier explanation](https://web.stanford.edu/~jurafsky/slp3/4.pdf)\n",
    "* [Doc2Vec original paper](https://cs.stanford.edu/~quocle/paragraph_vector.pdf)\n",
    "* [GloVe original paper](https://nlp.stanford.edu/pubs/glove.pdf)\n",
    "* [Understanding LSTMs](http://colah.github.io/posts/2015-08-Understanding-LSTMs/)\n",
    "\n",
    "Blogposts and Kaggle Notebooks:\n",
    "   * https://towardsdatascience.com/multi-class-text-classification-with-doc2vec-logistic-regression-9da9947b43f4\n",
    "   * https://medium.com/@sarin.samarth07/glove-word-embeddings-with-keras-python-code-52131b0c8b1d\n",
    "   * https://www.kaggle.com/shahules/basic-eda-cleaning-and-glove"
   ]
  }
 ],
 "metadata": {
  "kernelspec": {
   "display_name": "Python 3",
   "language": "python",
   "name": "python3"
  },
  "language_info": {
   "codemirror_mode": {
    "name": "ipython",
    "version": 3
   },
   "file_extension": ".py",
   "mimetype": "text/x-python",
   "name": "python",
   "nbconvert_exporter": "python",
   "pygments_lexer": "ipython3",
   "version": "3.7.7"
  }
 },
 "nbformat": 4,
 "nbformat_minor": 2
}
